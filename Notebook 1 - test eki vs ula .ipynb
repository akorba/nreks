{
 "cells": [
  {
   "cell_type": "code",
   "execution_count": 31,
   "id": "9d7f10c4",
   "metadata": {},
   "outputs": [
    {
     "data": {
      "image/png": "[encoded data removed]",
      "text/plain": [
       "<Figure size 432x288 with 1 Axes>"
      ]
     },
     "metadata": {
      "needs_background": "light"
     },
     "output_type": "display_data"
    }
   ],
   "source": [
    "import numpy as np\n",
    "import matplotlib.pyplot as plt\n",
    "from matplotlib.animation import FuncAnimation\n",
    "from math import sqrt, pi, exp\n",
    "import scipy.linalg\n",
    "import time\n",
    "import matplotlib.pylab as pl\n",
    "from scipy.sparse.linalg import eigs\n",
    "import math\n",
    "\n",
    "import functools\n",
    "\n",
    "from eki_code.grad_inference import *\n",
    "\n",
    "np.random.seed(1)\n",
    "\n",
    "alpha = 1.0\n",
    "J = 20  # number of particles \n",
    "N_sim = 20000 # number of iterations\n",
    "d = 2 # dimension\n",
    "tau = 0.01 # step size\n",
    "u0 = np.random.normal(0,1.0,(2,J)) # initial positions of the particles\n",
    "\n",
    "# test case \"banana\"\n",
    "y = 0\n",
    "sigNoise = 0.5\n",
    "sigPrior = 2\n",
    "\n",
    "\n",
    "\n",
    "G = lambda u: ((u[1]-2)**2-(u[0]-3.5) -1)\n",
    "Phi = lambda u: 0.5/(sigNoise**2)*(G(u)-y)**2 #likelihood\n",
    "\n",
    "# potential function\n",
    "I = lambda u: Phi(u) + 0.5/(sigPrior**2)*np.linalg.norm(u,axis=0)**2\n",
    "\n",
    "\n",
    "# Plot test case\n",
    "xmin = -2\n",
    "xmax = 7\n",
    "ymin= -1\n",
    "ymax= 5\n",
    "u0s = np.linspace(xmin,xmax,150)\n",
    "u1s = np.linspace(ymin,ymax,150)\n",
    "U0, U1 = np.meshgrid(u0s,u1s)\n",
    "U = np.stack((U0,U1))\n",
    "\n",
    "plt.figure()\n",
    "plt.contourf(U0, U1, np.exp(-I(U)), 10)\n",
    "plt.title(\"Posterior distribution\")\n",
    "\n",
    "unnorm_dens = np.exp(-I(U))\n",
    "Z = np.trapz(unnorm_dens, u0s, axis=1)\n",
    "Z = np.trapz(Z, u1s)\n",
    "dens = unnorm_dens/Z\n",
    "\n",
    "marg_over_x = np.trapz(dens, u0s, axis=1)\n",
    "marg_over_y = np.trapz(dens, u1s, axis=0)\n",
    "\n",
    "# method for computing all gradients at once\n",
    "def compute_gradients(points):\n",
    "    vs = np.zeros_like(points)\n",
    "    d, J = points.shape\n",
    "    H = np.zeros((points.shape[0],points.shape[0],points.shape[1]))\n",
    "    for i in range(J):\n",
    "        return_dict= inferGradientAndHess(points, I(points), hessian = True, ind=i, additionalvariance=0.0)\n",
    "        vs[:,i], H[:,:,i] = return_dict['grad'], return_dict['H']\n",
    "    return vs, H\n"
   ]
  },
  {
   "cell_type": "code",
   "execution_count": 32,
   "id": "1328857a",
   "metadata": {},
   "outputs": [
    {
     "data": {
      "text/plain": [
       "'\\nstart_time = time.time()\\nus_list_ULA = np.zeros((2,J,N_sim)) # 2, number of particles, number of iterations\\nus_list_ULA[:,:,0] = u0 # initial positions on the grid\\n\\n\\nfor n in range(N_sim-1):    \\n    us = us_list_ULA[:,:,n]\\n    vs, H = compute_gradients(us_list_ULA[:,:,n])\\n    tauk = tau * np.linalg.norm(us, axis=0)/(1e-3+np.linalg.norm(vs, axis=0))\\n    us_list_ULA[:,:,n+1] = us_list_ULA[:,:,n] - tauk*alpha*vs + sqrt(2)*(tauk**(1/2))*np.random.normal(0,1,(2,J))\\n\\nprint(f\"ULA: {time.time()-start_time} seconds\")\\n'"
      ]
     },
     "execution_count": 32,
     "metadata": {},
     "output_type": "execute_result"
    }
   ],
   "source": [
    "# ULA (Unadjusted Langevin Algorithm)\n",
    "\"\"\"\n",
    "start_time = time.time()\n",
    "us_list_ULA = np.zeros((2,J,N_sim)) # 2, number of particles, number of iterations\n",
    "us_list_ULA[:,:,0] = u0 # initial positions on the grid\n",
    "\n",
    "\n",
    "for n in range(N_sim-1):    \n",
    "    us = us_list_ULA[:,:,n]\n",
    "    vs, H = compute_gradients(us_list_ULA[:,:,n])\n",
    "    tauk = tau * np.linalg.norm(us, axis=0)/(1e-3+np.linalg.norm(vs, axis=0))\n",
    "    us_list_ULA[:,:,n+1] = us_list_ULA[:,:,n] - tauk*alpha*vs + sqrt(2)*(tauk**(1/2))*np.random.normal(0,1,(2,J))\n",
    "\n",
    "print(f\"ULA: {time.time()-start_time} seconds\")\n",
    "\"\"\""
   ]
  },
  {
   "cell_type": "code",
   "execution_count": 33,
   "id": "db5e1508",
   "metadata": {},
   "outputs": [
    {
     "name": "stdout",
     "output_type": "stream",
     "text": [
      "ALDI: 192.18058228492737 seconds\n"
     ]
    }
   ],
   "source": [
    "# EKS 2 (ALDI with gradient)\n",
    "start_time = time.time()\n",
    "us_list_ALDI = np.zeros((d,J,N_sim))\n",
    "us_list_ALDI[:,:,0] = u0\n",
    "total_acc = 0\n",
    "tau_ALDI = tau\n",
    "\n",
    "y_algo = np.array([[y]])\n",
    "for n in range(N_sim-1):   \n",
    "    us = us_list_ALDI[:,:,n] # shape (d, J)\n",
    "    m_us = np.mean(us, axis=1)[:,np.newaxis] # shape (d, 1)\n",
    "    G_us_unprocessed = G(us)\n",
    "    #if G_us_unprocessed.ndim == 1: # this is just to catch an annoying thing when G has higher dimension\n",
    "    G_us = G_us_unprocessed[np.newaxis,:] # shape (1, J)\n",
    "    m_G_us = np.mean(G_us, axis=1)[np.newaxis, :] # shape (1, 1)\n",
    "    #else:\n",
    "    #    G_us = G_us_unprocessed.Ts\n",
    "    #    m_G_us = np.mean(G_us, axis=1)[:,np.newaxis]\n",
    "    #m_G_us =  np.mean(G(us)[np.newaxis,:], axis=1)[np.newaxis, :]\n",
    "    u_c = us - m_us \n",
    "    g_c = G_us - m_G_us\n",
    "    D = 1/J*np.einsum('ij,lj->il', u_c, g_c) # shape (d, 1)\n",
    "    C = np.cov(us)*(J-1)/J # shape (2, 2)\n",
    "    E = np.cov(G_us)*(J-1)/J # scalar for dimension of G=1\n",
    "    Csqrt = 1/sqrt(J)*u_c # shape (d, J)\n",
    "    \n",
    "    vs, H = compute_gradients(us) # vs: shape (d, J)\n",
    "    \n",
    "    #drift = -1/(sigNoise**2 + tau_ALDI*E)*D@(G_us-y_algo) - 1/sigPrior**2*C@us + (d+1)*1/J*(us-m_us) # original line\n",
    "    drift = - np.dot(C,vs) + (d+1)*1/J*(us-m_us) # shape (d,J)\n",
    "    noise = np.random.normal(0,1,(J,J)) # shape (J,J)\n",
    "    diff = sqrt(2)*Csqrt@noise # shape (d,J)\n",
    "\n",
    "    us_list_ALDI[:,:,n+1] = us+tau_ALDI*drift  + sqrt(tau_ALDI)*diff\n",
    "print(f\"ALDI: {time.time()-start_time} seconds\")"
   ]
  },
  {
   "cell_type": "code",
   "execution_count": 38,
   "id": "1831f8bb",
   "metadata": {},
   "outputs": [
    {
     "data": {
      "text/plain": [
       "(2, 2)"
      ]
     },
     "execution_count": 38,
     "metadata": {},
     "output_type": "execute_result"
    }
   ],
   "source": [
    "C.shape"
   ]
  },
  {
   "cell_type": "code",
   "execution_count": 34,
   "id": "5b131298",
   "metadata": {},
   "outputs": [
    {
     "data": {
      "text/plain": [
       "(2, 20)"
      ]
     },
     "execution_count": 34,
     "metadata": {},
     "output_type": "execute_result"
    }
   ],
   "source": [
    "diff.shape"
   ]
  },
  {
   "cell_type": "code",
   "execution_count": 36,
   "id": "4375cb1a",
   "metadata": {},
   "outputs": [
    {
     "data": {
      "text/plain": [
       "'\\nplt.figure()\\nplt.pcolormesh(yedges3, xedges3, H3.T, cmap=pl.cm.viridis_r); \\nplt.xlim((xmin,xmax))\\nplt.ylim((ymin,ymax))\\nplt.contour(U0, U1, np.exp(-I(U)), 5, alpha=0.4, colors=\"black\")\\nplt.title(\"Non Reversible Ensemble Kalman Sampler, J = \"+str(J)+\", N = \"+str(N_sim))\\n'"
      ]
     },
     "execution_count": 36,
     "metadata": {},
     "output_type": "execute_result"
    },
    {
     "data": {
      "image/png": "[encoded data removed]",
      "text/plain": [
       "<Figure size 432x288 with 1 Axes>"
      ]
     },
     "metadata": {
      "needs_background": "light"
     },
     "output_type": "display_data"
    }
   ],
   "source": [
    "\n",
    "N_burnin = 0#1000#int(N_sim/2)\n",
    "\n",
    "binsx = np.linspace(xmin,xmax,31)\n",
    "binsy = np.linspace(ymin,ymax,31)\n",
    "#H1, yedges1, xedges1 = np.histogram2d(us_list_ULA[0,:,N_burnin:].flatten(),us_list_ULA[1,:,N_burnin:].flatten(), bins=[binsx,binsy])\n",
    "H2, yedges2, xedges2 = np.histogram2d(us_list_ALDI[0,:,N_burnin:].flatten(),us_list_ALDI[1,:,N_burnin:].flatten(), bins=[binsx,binsy])\n",
    "#H3, yedges3, xedges3 = np.histogram2d(us_list_ALDINR[0,:,N_burnin:].flatten(),us_list_ALDINR[1,:,N_burnin:].flatten(), bins=[binsx,binsy])\n",
    "\n",
    "\n",
    "\"\"\"\n",
    "plt.figure()\n",
    "plt.pcolormesh(yedges1, xedges1, H1.T, cmap=pl.cm.viridis_r); \n",
    "plt.xlim((xmin,xmax))\n",
    "plt.ylim((ymin,ymax))\n",
    "plt.contour(U0, U1, np.exp(-I(U)), 5, alpha=0.4, colors=\"black\")\n",
    "plt.title(\"Ensemble Langevin Sampler, J = \"+str(J)+\", N = \"+str(N_sim))\n",
    "\"\"\"\n",
    "\n",
    "plt.figure()\n",
    "plt.pcolormesh(yedges2, xedges2, H2.T, cmap=pl.cm.viridis_r); \n",
    "plt.xlim((xmin,xmax))\n",
    "plt.ylim((ymin,ymax))\n",
    "plt.contour(U0, U1, np.exp(-I(U)), 5, alpha=0.4, colors=\"black\")\n",
    "plt.title(\"Ensemble Kalman Sampler with gradient, J = \"+str(J)+\", N = \"+str(N_sim))\n",
    "\n",
    "\"\"\"\n",
    "plt.figure()\n",
    "plt.pcolormesh(yedges3, xedges3, H3.T, cmap=pl.cm.viridis_r); \n",
    "plt.xlim((xmin,xmax))\n",
    "plt.ylim((ymin,ymax))\n",
    "plt.contour(U0, U1, np.exp(-I(U)), 5, alpha=0.4, colors=\"black\")\n",
    "plt.title(\"Non Reversible Ensemble Kalman Sampler, J = \"+str(J)+\", N = \"+str(N_sim))\n",
    "\"\"\""
   ]
  },
  {
   "cell_type": "code",
   "execution_count": 37,
   "id": "89ee5c0d",
   "metadata": {},
   "outputs": [
    {
     "data": {
      "text/plain": [
       "array([[[ 1.62434536,  1.97418678,  2.15318455, ...,  3.16194805,\n",
       "          3.09518086,  3.23766457],\n",
       "        [-0.61175641, -0.5080397 , -0.1275592 , ...,  1.98090807,\n",
       "          1.9246447 ,  1.99915441],\n",
       "        [-0.52817175, -0.39100704, -0.15928215, ...,  1.93740235,\n",
       "          2.0222096 ,  2.01712902],\n",
       "        ...,\n",
       "        [-0.87785842, -0.69828695, -0.6427247 , ...,  3.81381542,\n",
       "          3.79860208,  3.83382976],\n",
       "        [ 0.04221375,  0.24685785,  0.21096493, ...,  2.39552723,\n",
       "          2.43708794,  2.40084139],\n",
       "        [ 0.58281521,  0.56621948,  0.47359223, ...,  3.39579014,\n",
       "          3.43041298,  3.30594924]],\n",
       "\n",
       "       [[-1.10061918,  0.44874044,  0.49580493, ...,  1.82418796,\n",
       "          1.9239087 ,  1.82264121],\n",
       "        [ 1.14472371,  1.45966567,  1.39356295, ...,  1.55806092,\n",
       "          1.46318004,  1.43405782],\n",
       "        [ 0.90159072,  1.31249723,  1.321685  , ...,  1.91077775,\n",
       "          1.94669993,  2.05540808],\n",
       "        ...,\n",
       "        [ 0.2344157 ,  0.88224489,  0.85523272, ...,  1.15478737,\n",
       "          1.09757279,  1.04887562],\n",
       "        [ 1.65980218,  1.71463717,  1.72329277, ...,  1.33007356,\n",
       "          1.30794088,  1.38921944],\n",
       "        [ 0.74204416,  1.02132035,  1.08449081, ...,  3.17091123,\n",
       "          3.1356954 ,  3.24684636]]])"
      ]
     },
     "execution_count": 37,
     "metadata": {},
     "output_type": "execute_result"
    }
   ],
   "source": [
    "us_list_ALDI"
   ]
  }
 ],
 "metadata": {
  "kernelspec": {
   "display_name": "Python 3 (ipykernel)",
   "language": "python",
   "name": "python3"
  },
  "language_info": {
   "codemirror_mode": {
    "name": "ipython",
    "version": 3
   },
   "file_extension": ".py",
   "mimetype": "text/x-python",
   "name": "python",
   "nbconvert_exporter": "python",
   "pygments_lexer": "ipython3",
   "version": "3.8.8"
  }
 },
 "nbformat": 4,
 "nbformat_minor": 5
}
