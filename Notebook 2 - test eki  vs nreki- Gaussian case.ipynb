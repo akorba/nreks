{
 "cells": [
  {
   "cell_type": "code",
   "execution_count": 1,
   "id": "e91d36ed",
   "metadata": {},
   "outputs": [],
   "source": [
    "import numpy as np\n",
    "import time\n",
    "from math import sqrt, pi, exp\n",
    "import functools\n",
    "import scipy\n",
    "import matplotlib.pylab as pl\n",
    "from varname import nameof\n",
    "\n",
    "\n",
    "from utils.preconditioners import *\n",
    "from utils.algorithms import *\n",
    "from utils.functions import *"
   ]
  },
  {
   "cell_type": "markdown",
   "id": "b7564f3a",
   "metadata": {},
   "source": [
    "### Test case \"Gaussian\""
   ]
  },
  {
   "cell_type": "code",
   "execution_count": 2,
   "id": "760fbccf",
   "metadata": {},
   "outputs": [],
   "source": [
    "# \n",
    "d = 2\n",
    "\n",
    "# test case \"Gaussian\"\n",
    "xmin = -2\n",
    "xmax = 2\n",
    "ymin= -2\n",
    "ymax= 2\n",
    "\n",
    "#m = np.asarray([0,0])\n",
    "#K = np.diag([1,1])\n",
    "#K_inv = np.linalg.inv(K)\n",
    "#K_det = np.linalg.det(K)\n",
    "\n",
    "#coe = 1.0 / ((2 * np.pi)**2 * K_det)**0.5\n",
    "#I = lambda u: np.linalg.multi_dot([u.T,np.linalg.inv(K),u]) # does not work idny\n",
    "#I = lambda u: coe * np.e ** (-0.5 * (K_inv[0,0]*(u[0]-m[0])**2 \\\n",
    "#                + (K_inv[0,1] + K_inv[1,0])*(u[0]-m[0])*(u[1]-m[1]) + K_inv[1,1]*(u[1]-m[1])**2))\n",
    "\n",
    "\n",
    "# potential function\n",
    "\n",
    "y=0\n",
    "sigNoise = 0.5\n",
    "sigPrior = 2\n",
    "\n",
    "G = lambda u: (u[1])**2+(u[0])**2\n",
    "Phi = lambda u: 0.5/(sigNoise**2)*(G(u)-y)**2 #likelihood\n",
    "\n",
    "# potential function\n",
    "I = lambda u: Phi(u) + 0.5/(sigPrior**2)*np.linalg.norm(u,axis=0)**2\n",
    "\n",
    "# C0MPUTE SIGMA POSTERIOR\n",
    "\n",
    "K_inv = np.eye(d,d)*sigPrior + np.eye(d,d)*sigNoise\n",
    "K = np.linalg.solve(K_inv,np.eye(d,d))"
   ]
  },
  {
   "cell_type": "code",
   "execution_count": 3,
   "id": "64cac8e4",
   "metadata": {},
   "outputs": [
    {
     "name": "stdout",
     "output_type": "stream",
     "text": [
      "(2, 150, 150)\n"
     ]
    },
    {
     "data": {
      "image/png": "[encoded data removed]",
      "text/plain": [
       "<Figure size 432x288 with 1 Axes>"
      ]
     },
     "metadata": {
      "needs_background": "light"
     },
     "output_type": "display_data"
    },
    {
     "data": {
      "text/plain": [
       "'\\nm = np.array([0,0])  # defining the mean of the Gaussian (mX = 0.2, mY=0.6)\\ncov = np.array([[0.7, 0.4], [0.4, 0.25]])   # defining the covariance matrix\\ncov_inv = K_inv   # inverse of covariance matrix\\ncov_det = np.linalg.det(cov)  # determinant of covariance matrix\\n# Plotting\\nx = np.linspace(-2, 2)\\ny = np.linspace(-2, 2)\\nX,Y = np.meshgrid(x,y)\\ncoe = 1.0 / ((2 * np.pi)**2 * cov_det)**0.5\\nZ = coe * np.e ** (-0.5 * (cov_inv[0,0]*(X-m[0])**2 + (cov_inv[0,1] + cov_inv[1,0])*(X-m[0])*(Y-m[1]) + cov_inv[1,1]*(Y-m[1])**2))\\nplt.contour(X,Y,Z)\\nplt.show()\\n'"
      ]
     },
     "execution_count": 3,
     "metadata": {},
     "output_type": "execute_result"
    }
   ],
   "source": [
    "# plot posterior\n",
    "\n",
    "u0s = np.linspace(xmin,xmax,150)\n",
    "u1s = np.linspace(ymin,ymax,150)\n",
    "U0, U1 = np.meshgrid(u0s,u1s)\n",
    "U = np.stack((U0,U1))\n",
    "print(U.shape)\n",
    "\n",
    "\n",
    "plt.figure()\n",
    "plt.contourf(U0, U1, np.exp(-I(U)), 10)\n",
    "plt.title(\"Posterior distribution\")\n",
    "plt.show()\n",
    "\n",
    "\"\"\"\n",
    "m = np.array([0,0])  # defining the mean of the Gaussian (mX = 0.2, mY=0.6)\n",
    "cov = np.array([[0.7, 0.4], [0.4, 0.25]])   # defining the covariance matrix\n",
    "cov_inv = K_inv   # inverse of covariance matrix\n",
    "cov_det = np.linalg.det(cov)  # determinant of covariance matrix\n",
    "# Plotting\n",
    "x = np.linspace(-2, 2)\n",
    "y = np.linspace(-2, 2)\n",
    "X,Y = np.meshgrid(x,y)\n",
    "coe = 1.0 / ((2 * np.pi)**2 * cov_det)**0.5\n",
    "Z = coe * np.e ** (-0.5 * (cov_inv[0,0]*(X-m[0])**2 + (cov_inv[0,1] + cov_inv[1,0])*(X-m[0])*(Y-m[1]) + cov_inv[1,1]*(Y-m[1])**2))\n",
    "plt.contour(X,Y,Z)\n",
    "plt.show()\n",
    "\"\"\""
   ]
  },
  {
   "cell_type": "markdown",
   "id": "4acd9c19",
   "metadata": {},
   "source": [
    "### Try algorithms"
   ]
  },
  {
   "cell_type": "code",
   "execution_count": 4,
   "id": "a578a9d2",
   "metadata": {},
   "outputs": [],
   "source": [
    "# parameters of all the algorithms\n",
    "\n",
    "J = 20  # number of particles \n",
    "N_sim = 100 # number of iterations\n",
    "d = 2 # dimension\n",
    "tau = 0.01 # step size\n",
    "u0 = np.random.normal(0,1.0,(d,J)) # initial position of the particles\n",
    "\n",
    "# parameters of our algorithm\n",
    "const = 1.5 \n"
   ]
  },
  {
   "cell_type": "code",
   "execution_count": 5,
   "id": "d64464e9",
   "metadata": {},
   "outputs": [
    {
     "data": {
      "text/plain": [
       "Text(0.5, 1.0, 'Posterior distribution and initialization')"
      ]
     },
     "execution_count": 5,
     "metadata": {},
     "output_type": "execute_result"
    },
    {
     "data": {
      "image/png": "[encoded data removed]",
      "text/plain": [
       "<Figure size 432x288 with 1 Axes>"
      ]
     },
     "metadata": {
      "needs_background": "light"
     },
     "output_type": "display_data"
    }
   ],
   "source": [
    "\n",
    "plt.figure()\n",
    "plt.contourf(U0, U1, np.exp(-I(U)), 10)\n",
    "plt.scatter(u0[0],u0[1])\n",
    "plt.title(\"Posterior distribution and initialization\")"
   ]
  },
  {
   "cell_type": "code",
   "execution_count": 6,
   "id": "d4bc98db",
   "metadata": {},
   "outputs": [
    {
     "name": "stdout",
     "output_type": "stream",
     "text": [
      "ULA: 0.8966739177703857 seconds\n"
     ]
    }
   ],
   "source": [
    "start_time = time.time()\n",
    "\n",
    "us_list_ULA = run_ULA(I, N_sim, u0, tau)\n",
    "\n",
    "print(f\"ULA: {time.time()-start_time} seconds\")"
   ]
  },
  {
   "cell_type": "code",
   "execution_count": 7,
   "id": "6ca50127",
   "metadata": {},
   "outputs": [
    {
     "name": "stdout",
     "output_type": "stream",
     "text": [
      "ALDI with gradient: 0.8853178024291992 seconds\n"
     ]
    }
   ],
   "source": [
    "# EKS (ALDI with gradient)\n",
    "\n",
    "start_time = time.time()\n",
    "\n",
    "us_list_ALDI = run_ALDI_with_gradient(I, N_sim, u0, tau)\n",
    "\n",
    "print(f\"ALDI with gradient: {time.time()-start_time} seconds\")\n"
   ]
  },
  {
   "cell_type": "code",
   "execution_count": 8,
   "id": "2f589392",
   "metadata": {},
   "outputs": [
    {
     "name": "stdout",
     "output_type": "stream",
     "text": [
      "iter\n",
      "0\n",
      "0.21431567792420886\n",
      "0.21450640353029357\n",
      "0.21205918988162947\n"
     ]
    },
    {
     "name": "stderr",
     "output_type": "stream",
     "text": [
      "/Users/annakorba/Desktop/square/code_eks/utils/algorithms.py:107: ComplexWarning: Casting complex values to real discards the imaginary part\n",
      "  us_list_ALDINR[:,:,n+1] = us+tau*drift  + np.sqrt(tau)*diff\n"
     ]
    },
    {
     "name": "stdout",
     "output_type": "stream",
     "text": [
      "0.2103984839498134\n",
      "0.20678843707103686\n",
      "0.20799506625800232\n",
      "0.20836664929805515\n",
      "0.20611678101256883\n",
      "0.20441063458942674\n",
      "0.2046841040444378\n",
      "0.20279531405971868\n",
      "0.20343841173743468\n",
      "0.20219285731853892\n",
      "0.20121202273829816\n",
      "0.20242349582106428\n",
      "0.19994059986241164\n",
      "0.2013267471773486\n",
      "0.20038864308998564\n",
      "0.19713714361506982\n",
      "0.19652867250382644\n",
      "0.19659168416786077\n",
      "0.19574538198566024\n",
      "0.19451717739875019\n",
      "0.1942558143176367\n",
      "0.19801723022403336\n",
      "0.19805685880698262\n",
      "0.1983945700750749\n",
      "0.20041388435344748\n",
      "0.19839684912848027\n",
      "0.19902147323803596\n",
      "0.1984742396423619\n",
      "0.19993726872662826\n",
      "0.19825487506920542\n",
      "0.19898364263825546\n",
      "0.2001238224654573\n",
      "0.2024693510854484\n",
      "0.20197618907176487\n",
      "0.20039988462320069\n",
      "0.19758233937051256\n",
      "0.19818945232732765\n",
      "0.19847618467848974\n",
      "0.2024716961858957\n",
      "0.20318618345434195\n",
      "0.20372574840117952\n",
      "0.20383036378700492\n",
      "0.2039638079773785\n",
      "0.20516898233968003\n",
      "0.20637628590519305\n",
      "0.20680757439701172\n",
      "0.2053110406002642\n",
      "0.20436621286794954\n",
      "0.20541537995591397\n",
      "0.20501724172264513\n",
      "0.20607277493665518\n",
      "0.20224042359638675\n",
      "0.2005138923036612\n",
      "0.2021653505388124\n",
      "0.20258768825159162\n",
      "0.20607369744896997\n",
      "0.2061850964307882\n",
      "0.20525838607757885\n",
      "0.20844408580867774\n",
      "0.2077788725390193\n",
      "0.20585783209212716\n",
      "0.2071456837411124\n",
      "0.20742102183343591\n",
      "0.20967697978199262\n",
      "0.20796991097959613\n",
      "0.2095496117126636\n",
      "0.20747528642354449\n",
      "0.20837897825640003\n",
      "0.20912572297806697\n",
      "0.2113457598107478\n",
      "0.21084058807283826\n",
      "0.2109894774008061\n",
      "0.21095182229676365\n",
      "0.2111471003533717\n",
      "0.2109578512588738\n",
      "0.21137170373985867\n",
      "0.20917551378569033\n",
      "0.2103831206714114\n",
      "0.21100815177545665\n",
      "0.21081050231858406\n",
      "0.2110980035748083\n",
      "0.20886669938359406\n",
      "0.20752627519246078\n",
      "0.2100622132083618\n",
      "0.2103922304148926\n",
      "0.21113156617252046\n",
      "0.20860832105136248\n",
      "0.21113497417937158\n",
      "0.20835833685533162\n",
      "0.2113327017180473\n",
      "0.2128866841730389\n",
      "0.21618029584043041\n",
      "0.21294442878663383\n",
      "0.21194422478448188\n",
      "0.21538680302016888\n",
      "0.2170255773494506\n",
      "ALDI: 8.30656909942627 seconds\n"
     ]
    }
   ],
   "source": [
    "# Non reversible EKS (our algorithm) v2\n",
    "\n",
    "# parameters of all the algorithms\n",
    "\n",
    "J = 100  # number of particles \n",
    "N_sim = 100 # number of iterations\n",
    "d = 2 # dimension\n",
    "tau_ALDINR = 1e-4\n",
    "u0 = np.random.normal(0,0.5,(2,J)) # initial position of the particles\n",
    "\n",
    "# parameters of our algorithm\n",
    "const = 1.5 \n",
    "\n",
    "start_time = time.time()\n",
    "\n",
    "us_list_ALDINR, means = run_ALDINR(I, N_sim, u0, tau_ALDINR, const)\n",
    "    \n",
    "print(f\"ALDI: {time.time()-start_time} seconds\")\n"
   ]
  },
  {
   "cell_type": "code",
   "execution_count": 9,
   "id": "9bb8c8e4",
   "metadata": {},
   "outputs": [
    {
     "ename": "SyntaxError",
     "evalue": "invalid syntax (626379739.py, line 1)",
     "output_type": "error",
     "traceback": [
      "\u001b[0;36m  File \u001b[0;32m\"/var/folders/_t/h78tns5s2990dvmw2d6kzfyw0000gn/T/ipykernel_16567/626379739.py\"\u001b[0;36m, line \u001b[0;32m1\u001b[0m\n\u001b[0;31m    means[1,N_sim] =\u001b[0m\n\u001b[0m                      ^\u001b[0m\n\u001b[0;31mSyntaxError\u001b[0m\u001b[0;31m:\u001b[0m invalid syntax\n"
     ]
    }
   ],
   "source": [
    "means[1,N_sim] =  "
   ]
  },
  {
   "cell_type": "code",
   "execution_count": null,
   "id": "937ce26f",
   "metadata": {},
   "outputs": [],
   "source": [
    "plt.plot(means[1,:])"
   ]
  },
  {
   "cell_type": "code",
   "execution_count": null,
   "id": "262721b2",
   "metadata": {},
   "outputs": [],
   "source": [
    "# save results\n",
    "\n",
    "#us_list_ULA.tofile('save_data/ULA.dat')\n",
    "#us_list_ULA2 = np.fromfile('save_data/ULA.dat', dtype=int)\n",
    "#us_list_ULA == us_list_ULA2\n",
    "\n",
    "#us_list_ALDINR.tofile('save_data/ALDINR_5000.dat')\n",
    "#us_list_ALDINR2 = np.fromfile('save_data/ALDINR_5000.dat', dtype=int)\n",
    "#us_list_ALDINR == us_list_ALDINR2"
   ]
  },
  {
   "cell_type": "code",
   "execution_count": null,
   "id": "30ef638c",
   "metadata": {},
   "outputs": [],
   "source": [
    "# plot results\n",
    "\n",
    "name = nameof(us_list_ULA).lstrip('us_list')\n",
    "plot_results(I, us_list_ULA, name)\n",
    "\n",
    "name = nameof(us_list_ALDI).lstrip('us_list')\n",
    "plot_results(I, us_list_ALDI, name)\n",
    "    \n",
    "name = nameof(us_list_ALDINR).lstrip('us_list')\n",
    "plot_results(I, us_list_ALDINR, name)\n"
   ]
  },
  {
   "cell_type": "code",
   "execution_count": null,
   "id": "60ecf06b",
   "metadata": {},
   "outputs": [],
   "source": [
    "us_list_ALDINR[0,:,N_burnin:].flatten()"
   ]
  },
  {
   "cell_type": "code",
   "execution_count": null,
   "id": "5f7fd960",
   "metadata": {},
   "outputs": [],
   "source": [
    "np.max(us_list_ALDINR[0,:,N_burnin:].flatten())"
   ]
  },
  {
   "cell_type": "code",
   "execution_count": null,
   "id": "a94b3eec",
   "metadata": {},
   "outputs": [],
   "source": [
    "np.min(us_list_ALDINR[0,:,N_burnin:].flatten())"
   ]
  },
  {
   "cell_type": "code",
   "execution_count": null,
   "id": "080f1560",
   "metadata": {},
   "outputs": [],
   "source": [
    "np.max(us_list_ALDI3[0,:,N_burnin:].flatten())"
   ]
  },
  {
   "cell_type": "code",
   "execution_count": null,
   "id": "39cdbdad",
   "metadata": {},
   "outputs": [],
   "source": [
    "np.min(us_list_ALDI3[0,:,N_burnin:].flatten())"
   ]
  },
  {
   "cell_type": "code",
   "execution_count": null,
   "id": "b2a36402",
   "metadata": {},
   "outputs": [],
   "source": [
    "plt.hist(us_list_ALDINR[0,:,N_burnin:].flatten())"
   ]
  },
  {
   "cell_type": "code",
   "execution_count": null,
   "id": "6ce3651f",
   "metadata": {},
   "outputs": [],
   "source": [
    "plt.hist(us_list_ALDI3[0,:,N_burnin:].flatten())"
   ]
  },
  {
   "cell_type": "code",
   "execution_count": null,
   "id": "32438904",
   "metadata": {},
   "outputs": [],
   "source": [
    "us_list_ALDI3[0,:,N_burnin:].flatten()"
   ]
  },
  {
   "cell_type": "code",
   "execution_count": null,
   "id": "932570b0",
   "metadata": {},
   "outputs": [],
   "source": [
    "plt.hist2d(us_list_ALDINR[0,:,N_burnin:].flatten(),us_list_ALDINR[1,:,N_burnin:].flatten(),bins=200)"
   ]
  },
  {
   "cell_type": "code",
   "execution_count": null,
   "id": "0a8a0338",
   "metadata": {},
   "outputs": [],
   "source": [
    "plt.hist2d(us_list_ALDI3[0,:,N_burnin:].flatten(),us_list_ALDI3[1,:,N_burnin:].flatten(),bins=200)"
   ]
  },
  {
   "cell_type": "code",
   "execution_count": null,
   "id": "666609ad",
   "metadata": {},
   "outputs": [],
   "source": [
    "plt.plot(dist_M)\n",
    "plt.figure()\n",
    "plt.plot(dist_C)"
   ]
  },
  {
   "cell_type": "code",
   "execution_count": null,
   "id": "f3a4a225",
   "metadata": {},
   "outputs": [],
   "source": [
    "dist_M[1]"
   ]
  }
 ],
 "metadata": {
  "kernelspec": {
   "display_name": "Python 3 (ipykernel)",
   "language": "python",
   "name": "python3"
  },
  "language_info": {
   "codemirror_mode": {
    "name": "ipython",
    "version": 3
   },
   "file_extension": ".py",
   "mimetype": "text/x-python",
   "name": "python",
   "nbconvert_exporter": "python",
   "pygments_lexer": "ipython3",
   "version": "3.8.8"
  }
 },
 "nbformat": 4,
 "nbformat_minor": 5
}
