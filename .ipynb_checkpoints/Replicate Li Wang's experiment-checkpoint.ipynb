{
 "cells": [
  {
   "cell_type": "code",
   "execution_count": 266,
   "id": "2c11b671",
   "metadata": {},
   "outputs": [],
   "source": [
    "import numpy as np\n",
    "import matplotlib.pyplot as plt\n",
    "from matplotlib.animation import FuncAnimation\n",
    "from math import sqrt, pi, exp\n",
    "import scipy.linalg\n",
    "import time\n",
    "import matplotlib.pylab as pl\n",
    "from scipy.sparse.linalg import eigs\n",
    "import math\n",
    "import functools\n",
    "from eki_code.grad_inference import *"
   ]
  },
  {
   "cell_type": "code",
   "execution_count": 267,
   "id": "85e2adae",
   "metadata": {},
   "outputs": [],
   "source": [
    "\n",
    "K     = np.diag([1,2]) # target e^{-1/2 u K^-1 u}\n",
    "sqrtK = np.diag([1,sqrt(2)])#  % K^1/2\n",
    "const = 1.81  # a user-specified const(>1) for the prefactor of convergence\n",
    "N     = 200   # iteration number \n",
    "dt    = 0.05 # step size\n",
    "d     = 2    # 2D \n"
   ]
  },
  {
   "cell_type": "code",
   "execution_count": 268,
   "id": "c694a66b",
   "metadata": {},
   "outputs": [],
   "source": [
    "# means and covariances along iterations\n",
    "# for the optimal scheme\n",
    "MM_opt = np.zeros((2,N))\n",
    "CC_opt = np.zeros((2,2,N))\n",
    "\n",
    "\n",
    "# distances to true mean and true covariance along iterations\n",
    "dis_M_opt  = np.zeros((N,1)) \n",
    "dis_C_opt  = np.zeros((N,1))\n",
    "dis_L2_opt = np.zeros((N,1))\n",
    "\n"
   ]
  },
  {
   "cell_type": "code",
   "execution_count": 227,
   "id": "de34e937",
   "metadata": {},
   "outputs": [
    {
     "data": {
      "text/plain": [
       "'\\n# means and covariances along iterations\\n# for our scheme\\nMM = np.zeros((2,N))\\nCC = np.zeros((2,2,N))\\ndis_M  = np.zeros((N,1)) \\ndis_C  = np.zeros((N,1))\\ndis_L2 = np.zeros((N,1))\\nMM[:,0]   = m\\nCC[:,:,0] = C\\n'"
      ]
     },
     "execution_count": 227,
     "metadata": {},
     "output_type": "execute_result"
    }
   ],
   "source": [
    "\"\"\"\n",
    "# means and covariances along iterations\n",
    "# for our scheme\n",
    "MM = np.zeros((2,N))\n",
    "CC = np.zeros((2,2,N))\n",
    "dis_M  = np.zeros((N,1)) \n",
    "dis_C  = np.zeros((N,1))\n",
    "dis_L2 = np.zeros((N,1))\n",
    "MM[:,0]   = m\n",
    "CC[:,:,0] = C\n",
    "\"\"\""
   ]
  },
  {
   "cell_type": "code",
   "execution_count": 269,
   "id": "cffbcdfb",
   "metadata": {},
   "outputs": [],
   "source": [
    "def construct_D_opt_tilde(C,d):\n",
    "    eigenvalues, eigenvectors = np.linalg.eig(C)\n",
    "    index_min = np.argmin(eigenvalues)\n",
    "    lambda_min = eigenvalues[index_min]\n",
    "    v = eigenvectors[:,index_min]\n",
    "    #D_opt_tilde = (d/lambda_min)*np.tensordot(v,v,axes = 0) # D is symmetric \n",
    "    D_opt_tilde = (d/lambda_min)*np.dot(v,v.T)\n",
    "    return D_opt_tilde, v, lambda_min\n",
    "\n",
    "def construct_D_opt(C,d):\n",
    "    D_opt_tilde, _ , lambda_min = construct_D_opt_tilde(C,d)\n",
    "    D_opt = D_opt_tilde * lambda_min\n",
    "    return D_opt\n",
    "\n",
    "\n",
    "def construct_onb(d,v):\n",
    "    psis = np.zeros((d,d))\n",
    "    e_1, e_2 = np.eye(d)[:,0], np.eye(d)[:,1]\n",
    "    \n",
    "    xi = (1/np.sqrt(d))*(e_1+e_2)\n",
    "    \n",
    "    dot_product =  np.dot(v.T, xi) \n",
    "    theta =  math.acos(dot_product) \n",
    "    \n",
    "    c, s = np.cos(theta), np.sin(theta)\n",
    "    A_theta1 = np.array(((c, -s), (s, c))) \n",
    "    A_theta2 = np.array(((c, s), (-s, c)))\n",
    "\n",
    "    if np.linalg.norm(np.dot(A_theta1,xi)-v)< 1e-8: # ici c'est reverse par rapport à Li\n",
    "        A_theta = A_theta1\n",
    "    elif np.linalg.norm(np.dot(A_theta2,xi)-v)< 1e-8:\n",
    "        A_theta = A_theta2 \n",
    "    else:\n",
    "        print(\"error wrong angle computed\")\n",
    "    \n",
    "    difference = xi - dot_product*v \n",
    "    v_prime = difference/np.linalg.norm(difference)\n",
    "    v_processed = v[np.newaxis,:].T\n",
    "    v_prime_processed = v_prime[np.newaxis,:].T\n",
    "    V = np.concatenate((v_processed,v_prime_processed), axis = 1) \n",
    "\n",
    "    T = V.dot(A_theta).dot(V.T)\n",
    "    \n",
    "    # test 1\n",
    "    print(\"test of Txi = v\")\n",
    "    print(np.all(np.isclose(np.dot(T,xi), v)))\n",
    "    \n",
    "    for i in range(0,d): # J'ai pas de \"eta\" comme dans le code de Li\n",
    "        e_parallel = np.dot(np.eye(d)[:,i],xi)*xi +np.dot(np.eye(d)[:,i],v)*v\n",
    "        e_orthogonal = np.eye(d)[:,i] - e_parallel\n",
    "        psi = np.dot(T,e_parallel) + e_orthogonal # Difference : Li uses A instead of T\n",
    "        psis[i]= psi\n",
    "        \n",
    "    # test 2\n",
    "    print(\"test orthonormality of psis\")\n",
    "    print(np.all(np.isclose(np.dot(psis,psis.T), np.eye(d))))\n",
    "    \n",
    "    # test 3 \n",
    "    for i in range(0,d):\n",
    "        np.dot(v,psis[:,i])*np.dot(v,psis[:,i])\n",
    "        \n",
    "    return psis\n",
    "\n",
    "\n",
    "\n",
    "def construct_J_opt_tilde(psis, v, lambda_min, c, d): # works for c>1 \n",
    "    J_hat = np.zeros((d,d))\n",
    "\n",
    "    lambda_1 = 1\n",
    "    lambda_2 = c**2\n",
    "    lambdas = [lambda_1, lambda_2] \n",
    "    \n",
    "    for j in range(d):\n",
    "        for k in range(j+1,2): # i also have an additional *(d/lamda_min) here compared to Li \n",
    "            J_hat[j,k] = ((lambdas[j]+lambdas[k])/(lambdas[j]-lambdas[k]))*np.dot(v,psis[:,j])*np.dot(v,psis[:,k])* (d/lambda_min)\n",
    "            J_hat[k,j] = - J_hat[j,k]\n",
    "\n",
    "    J_opt_tilde = functools.reduce(np.dot, [ psis, J_hat, psis.T])\n",
    "    return J_opt_tilde\n",
    "\n",
    "def construct_J_opt(psis, v, lambda_min, c, d, sqrtC):\n",
    "    J_opt_tilde = construct_J_opt_tilde(psis, v, lambda_min, c, d)\n",
    "    J_opt = functools.reduce(np.dot, [sqrtC, J_opt_tilde, sqrtC])\n",
    "    return J_opt"
   ]
  },
  {
   "cell_type": "code",
   "execution_count": 270,
   "id": "a239793d",
   "metadata": {},
   "outputs": [
    {
     "name": "stdout",
     "output_type": "stream",
     "text": [
      "[ 0.91421356 -1.20710678]\n",
      "[0.91421356 0.20710678]\n",
      "[[ 0.91421356  0.20710678]\n",
      " [-1.20710678  0.5       ]]\n",
      "[[1. 0.]\n",
      " [0. 1.]]\n",
      "[1. 0.]\n"
     ]
    }
   ],
   "source": [
    "print(psis[:,0])\n",
    "print(psis[0])\n",
    "print(psis)\n",
    "print(np.eye(2))\n",
    "print(np.eye(2)[:,0])"
   ]
  },
  {
   "cell_type": "code",
   "execution_count": 271,
   "id": "ae9aadfa",
   "metadata": {},
   "outputs": [
    {
     "name": "stdout",
     "output_type": "stream",
     "text": [
      "test of Txi = v\n",
      "True\n",
      "test orthonormality of psis\n",
      "False\n"
     ]
    }
   ],
   "source": [
    "# for the optimal scheme D opt and J opt are computed from the target matrix covariance K\n",
    "\n",
    "# initialization\n",
    "\n",
    "m  = np.asarray([0.2,0.3]).T \n",
    "C  = np.diag([2,1])\n",
    "MM_opt[:,0]   = m\n",
    "CC_opt[:,:,0] = C\n",
    "\n",
    "dis_M_opt[0] = np.linalg.norm(m)\n",
    "dis_C_opt[0] = np.linalg.norm(C-K)\n",
    "\n",
    "# construct D_opt and J_opt matrices\n",
    "D_opt_tilde, v, lambda_min = construct_D_opt_tilde(K,d)\n",
    "D_opt = construct_D_opt(K,d)\n",
    "\n",
    "psis = construct_onb(d,v)\n",
    "J_opt = construct_J_opt(psis, v, lambda_min, const, d, sqrtK) \n",
    "    \n",
    "    \n",
    "for iter in range(1,N):\n",
    "    #print(iter)\n",
    "    m = m - dt*np.dot((D_opt + J_opt),np.linalg.solve(K,m)) # li has a \"d - j\" below and has a multiplication by C in the end\n",
    "    C   = C - dt*np.dot((D_opt + J_opt),np.linalg.solve(K,C)) \\\n",
    "                - dt*np.dot(C, np.linalg.solve(K,(D_opt+J_opt).T)) + 2*dt*D_opt\n",
    "    MM_opt[:,iter]    = m\n",
    "    CC_opt[:,:,iter]  = C\n",
    "    #dis_L2[iter] = weighted_L2(m, C, [0,0]', K)\n",
    "    dis_M_opt[iter] = np.linalg.norm(m)\n",
    "    dis_C_opt[iter] = np.linalg.norm(C-K)"
   ]
  },
  {
   "cell_type": "code",
   "execution_count": 272,
   "id": "a76cf5d5",
   "metadata": {},
   "outputs": [
    {
     "data": {
      "text/plain": [
       "[<matplotlib.lines.Line2D at 0x7ff34978a580>]"
      ]
     },
     "execution_count": 272,
     "metadata": {},
     "output_type": "execute_result"
    },
    {
     "data": {
      "image/png": "[encoded data removed]",
      "text/plain": [
       "<Figure size 432x288 with 1 Axes>"
      ]
     },
     "metadata": {
      "needs_background": "light"
     },
     "output_type": "display_data"
    }
   ],
   "source": [
    "plt.yscale('log',base=10) \n",
    "plt.plot(range(0,N), dis_M_opt)"
   ]
  },
  {
   "cell_type": "code",
   "execution_count": 273,
   "id": "d2babf93",
   "metadata": {},
   "outputs": [
    {
     "data": {
      "text/plain": [
       "[<matplotlib.lines.Line2D at 0x7ff349497e80>]"
      ]
     },
     "execution_count": 273,
     "metadata": {},
     "output_type": "execute_result"
    },
    {
     "data": {
      "image/png": "[encoded data removed]",
      "text/plain": [
       "<Figure size 432x288 with 1 Axes>"
      ]
     },
     "metadata": {
      "needs_background": "light"
     },
     "output_type": "display_data"
    }
   ],
   "source": [
    "plt.yscale('log',base=2) \n",
    "plt.plot(range(0,N), dis_C_opt)"
   ]
  },
  {
   "cell_type": "code",
   "execution_count": null,
   "id": "e338f6a4",
   "metadata": {},
   "outputs": [],
   "source": []
  },
  {
   "cell_type": "code",
   "execution_count": null,
   "id": "cdd13d4b",
   "metadata": {},
   "outputs": [],
   "source": []
  },
  {
   "cell_type": "code",
   "execution_count": null,
   "id": "9063ef5a",
   "metadata": {},
   "outputs": [],
   "source": []
  },
  {
   "cell_type": "code",
   "execution_count": null,
   "id": "c53f9af2",
   "metadata": {},
   "outputs": [],
   "source": []
  },
  {
   "cell_type": "code",
   "execution_count": null,
   "id": "6c240416",
   "metadata": {},
   "outputs": [],
   "source": []
  },
  {
   "cell_type": "code",
   "execution_count": null,
   "id": "d93fc104",
   "metadata": {},
   "outputs": [],
   "source": []
  },
  {
   "cell_type": "code",
   "execution_count": null,
   "id": "a7a21adb",
   "metadata": {},
   "outputs": [],
   "source": []
  },
  {
   "cell_type": "code",
   "execution_count": null,
   "id": "9ad9d326",
   "metadata": {},
   "outputs": [],
   "source": []
  },
  {
   "cell_type": "code",
   "execution_count": 169,
   "id": "c3ec4779",
   "metadata": {},
   "outputs": [
    {
     "name": "stdout",
     "output_type": "stream",
     "text": [
      "test du Txi = v\n",
      "True\n"
     ]
    }
   ],
   "source": [
    "C  = np.diag([3,1])\n",
    "D_opt_tilde, v, lambda_min = construct_D_opt_tilde(C, d)\n",
    "D_opt = construct_D_opt(C,d)\n",
    "lambda_min\n",
    "\n",
    "psis = np.zeros((d,d))\n",
    "e_1, e_2 = np.eye(d)[:,0], np.eye(d)[:,1]\n",
    "\n",
    "xi = (1/np.sqrt(d))*(e_1+e_2)\n",
    "\n",
    "dot_product =  np.dot(v.T, xi) \n",
    "theta =  math.acos(dot_product) \n",
    "\n",
    "c, s = np.cos(theta), np.sin(theta)\n",
    "A_theta1 = np.array(((c, -s), (s, c))) \n",
    "A_theta2 = np.array(((c, s), (-s, c)))\n",
    "\n",
    "if np.linalg.norm(np.dot(A_theta2,xi)-v)< 1e-8: # ici c'est reverse par rapport à Li\n",
    "    A_theta = A_theta2\n",
    "elif np.linalg.norm(np.dot(A_theta1,xi)-v)< 1e-8:\n",
    "    A_theta = A_theta1\n",
    "else:\n",
    "    print(\"error wrong angle computed\")\n",
    "    print(np.dot(A_theta1,xi))\n",
    "    print(np.dot(A_theta2,xi))\n",
    "    print(v)\n",
    "\n",
    "difference = xi - dot_product*v \n",
    "v_prime = difference/np.linalg.norm(difference)\n",
    "v_processed = v[np.newaxis,:].T\n",
    "v_prime_processed = v_prime[np.newaxis,:].T\n",
    "V = np.concatenate((v_processed,v_prime_processed), axis = 1) \n",
    "\n",
    "T = V.dot(A_theta).dot(V.T)\n",
    "\n",
    "# test\n",
    "print(\"test du Txi = v\")\n",
    "print(not(np.all(np.isclose(np.dot(T,xi), v)))) \n",
    "\n",
    "for i in range(0,d): # J'ai pas de \"eta\" comme dans le code de Li\n",
    "    e_parallel = np.dot(np.eye(d)[:,i],xi)*xi +np.dot(np.eye(d)[:,i],v)*v\n",
    "    e_orthogonal = np.eye(d)[:,i] - e_parallel\n",
    "    psi = np.dot(T,e_parallel) + e_orthogonal # Difference : Li uses A instead of T\n",
    "    psis[:,i]= psi"
   ]
  },
  {
   "cell_type": "code",
   "execution_count": 170,
   "id": "a3b5279a",
   "metadata": {},
   "outputs": [
    {
     "name": "stdout",
     "output_type": "stream",
     "text": [
      "0\n",
      "test du Txi = v\n",
      "True\n",
      "1\n",
      "error wrong angle computed\n",
      "[-0.37513724  0.92696928]\n",
      "[ 0.92696928 -0.37513724]\n",
      "[ 0.78405345-0.j         -0.2322214 +0.57561568j]\n"
     ]
    },
    {
     "name": "stderr",
     "output_type": "stream",
     "text": [
      "/var/folders/_t/h78tns5s2990dvmw2d6kzfyw0000gn/T/ipykernel_2430/3905548168.py:24: ComplexWarning: Casting complex values to real discards the imaginary part\n",
      "  theta =  math.acos(dot_product)\n"
     ]
    },
    {
     "ename": "UnboundLocalError",
     "evalue": "local variable 'A_theta' referenced before assignment",
     "output_type": "error",
     "traceback": [
      "\u001b[0;31m---------------------------------------------------------------------------\u001b[0m",
      "\u001b[0;31mUnboundLocalError\u001b[0m                         Traceback (most recent call last)",
      "\u001b[0;32m/var/folders/_t/h78tns5s2990dvmw2d6kzfyw0000gn/T/ipykernel_2430/1931028148.py\u001b[0m in \u001b[0;36m<module>\u001b[0;34m\u001b[0m\n\u001b[1;32m      5\u001b[0m     \u001b[0mD_opt_tilde\u001b[0m\u001b[0;34m,\u001b[0m\u001b[0mv\u001b[0m\u001b[0;34m,\u001b[0m \u001b[0mlambda_min\u001b[0m \u001b[0;34m=\u001b[0m \u001b[0mconstruct_D_opt_tilde\u001b[0m\u001b[0;34m(\u001b[0m\u001b[0mC\u001b[0m\u001b[0;34m,\u001b[0m \u001b[0md\u001b[0m\u001b[0;34m)\u001b[0m\u001b[0;34m\u001b[0m\u001b[0;34m\u001b[0m\u001b[0m\n\u001b[1;32m      6\u001b[0m     \u001b[0mD_opt\u001b[0m \u001b[0;34m=\u001b[0m \u001b[0mconstruct_D_opt\u001b[0m\u001b[0;34m(\u001b[0m\u001b[0mC\u001b[0m\u001b[0;34m,\u001b[0m\u001b[0md\u001b[0m\u001b[0;34m)\u001b[0m\u001b[0;34m\u001b[0m\u001b[0;34m\u001b[0m\u001b[0m\n\u001b[0;32m----> 7\u001b[0;31m     \u001b[0mpsis\u001b[0m \u001b[0;34m=\u001b[0m \u001b[0mconstruct_onb\u001b[0m\u001b[0;34m(\u001b[0m\u001b[0md\u001b[0m\u001b[0;34m,\u001b[0m\u001b[0mv\u001b[0m\u001b[0;34m)\u001b[0m\u001b[0;34m\u001b[0m\u001b[0;34m\u001b[0m\u001b[0m\n\u001b[0m\u001b[1;32m      8\u001b[0m     \u001b[0mJ_opt\u001b[0m \u001b[0;34m=\u001b[0m \u001b[0mconstruct_J_opt\u001b[0m\u001b[0;34m(\u001b[0m\u001b[0mpsis\u001b[0m\u001b[0;34m,\u001b[0m \u001b[0mv\u001b[0m\u001b[0;34m,\u001b[0m \u001b[0mlambda_min\u001b[0m\u001b[0;34m,\u001b[0m \u001b[0mc\u001b[0m\u001b[0;34m,\u001b[0m \u001b[0md\u001b[0m\u001b[0;34m,\u001b[0m \u001b[0msqrtK\u001b[0m\u001b[0;34m)\u001b[0m\u001b[0;34m\u001b[0m\u001b[0;34m\u001b[0m\u001b[0m\n\u001b[1;32m      9\u001b[0m     \u001b[0;31m#J_opt = compute_J(v, const, sqrtK,  d, lambda);\u001b[0m\u001b[0;34m\u001b[0m\u001b[0;34m\u001b[0m\u001b[0;34m\u001b[0m\u001b[0m\n",
      "\u001b[0;32m/var/folders/_t/h78tns5s2990dvmw2d6kzfyw0000gn/T/ipykernel_2430/3905548168.py\u001b[0m in \u001b[0;36mconstruct_onb\u001b[0;34m(d, v)\u001b[0m\n\u001b[1;32m     44\u001b[0m     \u001b[0mV\u001b[0m \u001b[0;34m=\u001b[0m \u001b[0mnp\u001b[0m\u001b[0;34m.\u001b[0m\u001b[0mconcatenate\u001b[0m\u001b[0;34m(\u001b[0m\u001b[0;34m(\u001b[0m\u001b[0mv_processed\u001b[0m\u001b[0;34m,\u001b[0m\u001b[0mv_prime_processed\u001b[0m\u001b[0;34m)\u001b[0m\u001b[0;34m,\u001b[0m \u001b[0maxis\u001b[0m \u001b[0;34m=\u001b[0m \u001b[0;36m1\u001b[0m\u001b[0;34m)\u001b[0m\u001b[0;34m\u001b[0m\u001b[0;34m\u001b[0m\u001b[0m\n\u001b[1;32m     45\u001b[0m \u001b[0;34m\u001b[0m\u001b[0m\n\u001b[0;32m---> 46\u001b[0;31m     \u001b[0mT\u001b[0m \u001b[0;34m=\u001b[0m \u001b[0mV\u001b[0m\u001b[0;34m.\u001b[0m\u001b[0mdot\u001b[0m\u001b[0;34m(\u001b[0m\u001b[0mA_theta\u001b[0m\u001b[0;34m)\u001b[0m\u001b[0;34m.\u001b[0m\u001b[0mdot\u001b[0m\u001b[0;34m(\u001b[0m\u001b[0mV\u001b[0m\u001b[0;34m.\u001b[0m\u001b[0mT\u001b[0m\u001b[0;34m)\u001b[0m\u001b[0;34m\u001b[0m\u001b[0;34m\u001b[0m\u001b[0m\n\u001b[0m\u001b[1;32m     47\u001b[0m \u001b[0;34m\u001b[0m\u001b[0m\n\u001b[1;32m     48\u001b[0m     \u001b[0;31m# test\u001b[0m\u001b[0;34m\u001b[0m\u001b[0;34m\u001b[0m\u001b[0;34m\u001b[0m\u001b[0m\n",
      "\u001b[0;31mUnboundLocalError\u001b[0m: local variable 'A_theta' referenced before assignment"
     ]
    }
   ],
   "source": [
    "# li elle a l'air d'utiliser cash dopt et jopt (pas les tilde)\n",
    "\n",
    "for iter in range(0,N):\n",
    "    print(iter)\n",
    "    D_opt_tilde,v, lambda_min = construct_D_opt_tilde(C, d)\n",
    "    D_opt = construct_D_opt(C,d)\n",
    "    psis = construct_onb(d,v)\n",
    "    J_opt = construct_J_opt(psis, v, lambda_min, c, d, sqrtK) \n",
    "    #J_opt = compute_J(v, const, sqrtK,  d, lambda);\n",
    "    m = m - dt*np.dot((D_opt + J_opt),np.linalg.solve(K,m)) # li has a \"d - j\" below and has a multiplication by C in the end\n",
    "    C   = C + dt*np.dot(-(D_opt + J_opt),np.linalg.solve(K,C)) - np.dot(C, np.linalg.solve(K,(D_opt+J_opt))) + 2*D_opt\n",
    "    MM[:,iter]    = m\n",
    "    CC[:,:,iter]  = C\n",
    "    dis_M[iter] = np.linalg.norm(m)\n",
    "    dis_C[iter] = np.linalg.norm(C-K)\n",
    "    #dis_L2[iter] = weighted_L2(m, C, [0,0]', K)\n",
    "end"
   ]
  }
 ],
 "metadata": {
  "kernelspec": {
   "display_name": "Python 3 (ipykernel)",
   "language": "python",
   "name": "python3"
  },
  "language_info": {
   "codemirror_mode": {
    "name": "ipython",
    "version": 3
   },
   "file_extension": ".py",
   "mimetype": "text/x-python",
   "name": "python",
   "nbconvert_exporter": "python",
   "pygments_lexer": "ipython3",
   "version": "3.8.8"
  }
 },
 "nbformat": 4,
 "nbformat_minor": 5
}
